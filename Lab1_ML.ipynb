{
  "nbformat": 4,
  "nbformat_minor": 0,
  "metadata": {
    "colab": {
      "provenance": [],
      "toc_visible": true,
      "mount_file_id": "1BYy3m8i4hzDEtC2Q8xrnRkAfqFSkg_8G",
      "authorship_tag": "ABX9TyNb56lEZm9fJ3r/6BTKrlbh",
      "include_colab_link": true
    },
    "kernelspec": {
      "name": "python3",
      "display_name": "Python 3"
    },
    "language_info": {
      "name": "python"
    }
  },
  "cells": [
    {
      "cell_type": "markdown",
      "metadata": {
        "id": "view-in-github",
        "colab_type": "text"
      },
      "source": [
        "<a href=\"https://colab.research.google.com/github/hadeniyi29/hpy_project/blob/main/Lab1_ML.ipynb\" target=\"_parent\"><img src=\"https://colab.research.google.com/assets/colab-badge.svg\" alt=\"Open In Colab\"/></a>"
      ]
    },
    {
      "cell_type": "code",
      "source": [
        "#Use the following codes to complete the matrix addition function.\n",
        "def matrix_add(A, B):\n",
        "  rows_A, cols_A = len(A), len(A[0])\n",
        "  rows_B, cols_B = len(B), len(B[0])\n",
        "  rest = [[0 for _ in range(cols_A)] for _ in range(rows_B)]\n",
        "# CODE HERE to complete the matrix_add function\n",
        "  for i in range(rows_A):\n",
        "    for j in range(cols_A):\n",
        "      rest[i][j] = A[i][j] + B[i][j]\n",
        "\n",
        "  return rest"
      ],
      "metadata": {
        "id": "ituDU_3nYQNm"
      },
      "execution_count": null,
      "outputs": []
    },
    {
      "cell_type": "code",
      "source": [
        "def matrix_subtraction(A, B):\n",
        "    rows_A, cols_A = len(A), len(A[0])\n",
        "    rows_B, cols_B = len(B), len(B[0])\n",
        "    rest = [[0 for _ in range(cols_A)] for _ in range(rows_B)]\n",
        "    # CODE HERE to complete the matrix_add function\n",
        "    for i in range(rows_A):\n",
        "      for j in range(cols_A):\n",
        "        rest[i][j] = A[i][j] - B[i][j]\n",
        "\n",
        "\n",
        "    return rest"
      ],
      "metadata": {
        "id": "zghiD9bUkKRd"
      },
      "execution_count": null,
      "outputs": []
    },
    {
      "cell_type": "code",
      "execution_count": null,
      "metadata": {
        "colab": {
          "base_uri": "https://localhost:8080/"
        },
        "id": "mHbOOVcKX88r",
        "outputId": "e7845368-56ff-494c-ca88-50c074e7a305"
      },
      "outputs": [
        {
          "output_type": "stream",
          "name": "stdout",
          "text": [
            "Matrices are not the same size\n"
          ]
        }
      ],
      "source": [
        "#Test your code using the following code in main function\n",
        "X = [[12,7,3],\n",
        "    [4 ,5,6],\n",
        "    [7 ,8,9],\n",
        "     [1,2,3]]\n",
        "\n",
        "Y = [[5,8,1],\n",
        "    [6,7,3],\n",
        "    [4,5,9]]\n",
        "\n",
        "res = matrix_multiply(X, Y)\n",
        "if res != None:\n",
        "  for r in res:\n",
        "    print(r)\n"
      ]
    },
    {
      "cell_type": "code",
      "source": [
        "#Use the following codes to complete the matrix addition function.\n",
        "def matrix_multiply(A, B):\n",
        "  rows_A, cols_A = len(A), len(A[0])\n",
        "  rows_B, cols_B = len(B), len(B[0])\n",
        "  rest = [[0 for _ in range(cols_A)] for _ in range(rows_B)]\n",
        "# CODE HERE to complete the matrix_add function\n",
        "# We need to check if A and B are the same size\n",
        "  if rows_A == rows_B and cols_A == cols_B:\n",
        "    for i in range(rows_A):\n",
        "      for j in range(cols_A):\n",
        "        rest[i][j] = A[i][j] + B[i][j]\n",
        "    return rest\n",
        "  else:\n",
        "    print(\"Matrices are not the same size\")\n",
        "    return None"
      ],
      "metadata": {
        "id": "E2xwikFsoFKC"
      },
      "execution_count": null,
      "outputs": []
    },
    {
      "cell_type": "code",
      "source": [
        "def matrix_mult(A, B):\n",
        "    rows_A, cols_A = len(A), len(A[0])\n",
        "    rows_B, cols_B = len(B), len(B[0])\n",
        "\n",
        "    #Check the result Matrix\n",
        "    rest = [[0 for _ in range(cols_B)] for _ in range(rows_A)]\n",
        "    # CODE HERE to complete the matrix_add function\n",
        "    #Check the Demensions ofmatris\n",
        "    if cols_A != rows_B:\n",
        "      print(\"Error: Demension do not match\")\n",
        "      return None\n",
        "    else:\n",
        "      for i in range(rows_A):\n",
        "          for j in range(cols_B):\n",
        "               for k in range(cols_A):\n",
        "                rest[i][j] = rest[i][j] + A[i][k]*B[k][j]\n",
        "      return rest\n",
        "\n"
      ],
      "metadata": {
        "id": "V47tiUUpwl48"
      },
      "execution_count": 13,
      "outputs": []
    },
    {
      "cell_type": "code",
      "source": [
        "A = [[1, 7, 3],\n",
        "     [3, 5, 6],\n",
        "     [6, 8, 9]]\n",
        "B = [[1, 1, 1, 2],\n",
        "     [6, 7, 3, 0],\n",
        "     [4, 5, 9, 1],\n",
        "     [1,2,3,4]]\n",
        "res = matrix_mult(A, B)\n",
        "if res !=None:\n",
        "  for r in res:\n",
        "    print(r)\n"
      ],
      "metadata": {
        "id": "TBqQH_SdwuO8",
        "colab": {
          "base_uri": "https://localhost:8080/"
        },
        "outputId": "3f3c9042-a8db-4da3-d0cc-df68a717c786"
      },
      "execution_count": 15,
      "outputs": [
        {
          "output_type": "stream",
          "name": "stdout",
          "text": [
            "Error: Demension do not match\n"
          ]
        }
      ]
    },
    {
      "cell_type": "code",
      "source": [
        "def transpose_matrix(matrix):\n",
        "    # Returns the transpose of a matrix\n",
        "    return list(map(list, zip(*matrix)))\n",
        "\n",
        "def minor(matrix, i, j):\n",
        "    # Returns the minor of the matrix after removing row i and column j\n",
        "    return [row[:j]+row[j+1:] for row in (matrix[:i]+matrix[i+1:])]\n",
        "\n",
        "def determinant(matrix):\n",
        "    # Recursive function to calculate the determinant of a matrix\n",
        "    if len(matrix) == 1:\n",
        "        return matrix[0][0]\n",
        "    det = 0\n",
        "    for j in range(len(matrix)):\n",
        "        det += ((-1)**j)*matrix[0][j]*determinant(minor(matrix, 0, j))\n",
        "    return det\n",
        "\n",
        "def inverse_matrix(matrix):\n",
        "    n = len(matrix)\n",
        "    det_A = determinant(matrix)\n",
        "    if det_A == 0:\n",
        "        print(\"Matrix is not invertible (determinant is zero).\")\n",
        "        exit()\n",
        "    adjoint = []\n",
        "    for i in range(n):\n",
        "        row = []\n",
        "        for j in range(n):\n",
        "            cofactor = ((-1)**(i+j))*determinant(minor(matrix, i, j))\n",
        "            row.append(cofactor / det_A)\n",
        "        adjoint.append(row)\n",
        "    return transpose_matrix(adjoint)\n"
      ],
      "metadata": {
        "id": "2ROMKgRFIeoe"
      },
      "execution_count": 16,
      "outputs": []
    },
    {
      "cell_type": "code",
      "source": [
        "A =[[4,4],\n",
        "    [2,-4]]\n",
        "B=[[5],\n",
        "  [1]]\n",
        "\n",
        "inv_A = inverse_matrix(A)\n",
        "x = matrix_mult(inv_A, B)\n",
        "\n",
        "print(\"X1 = \", x[0][0])\n",
        "print(\"X2 = \", x[1][0])\n",
        "x\n",
        "for i in range(len(inv_A)):\n",
        "  for j in range(len(inv_A[0])):\n",
        "    print(inv_A[i][j], end = \" \")\n",
        "  print()\n"
      ],
      "metadata": {
        "colab": {
          "base_uri": "https://localhost:8080/"
        },
        "id": "iPOdqJmyJhQp",
        "outputId": "727a15a5-3330-4d22-85bd-19b7b93b9a6c"
      },
      "execution_count": 21,
      "outputs": [
        {
          "output_type": "stream",
          "name": "stdout",
          "text": [
            "X1 =  0.9999999999999999\n",
            "X2 =  0.24999999999999997\n",
            "0.16666666666666666 0.16666666666666666 \n",
            "0.08333333333333333 -0.16666666666666666 \n"
          ]
        }
      ]
    }
  ]
}